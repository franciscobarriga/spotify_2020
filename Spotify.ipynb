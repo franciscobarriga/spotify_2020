{
 "metadata": {
  "language_info": {
   "codemirror_mode": {
    "name": "ipython",
    "version": 3
   },
   "file_extension": ".py",
   "mimetype": "text/x-python",
   "name": "python",
   "nbconvert_exporter": "python",
   "pygments_lexer": "ipython3",
   "version": "3.8.3-final"
  },
  "orig_nbformat": 2,
  "kernelspec": {
   "name": "python3",
   "display_name": "Python 3",
   "language": "python"
  }
 },
 "nbformat": 4,
 "nbformat_minor": 2,
 "cells": [
  {
   "cell_type": "code",
   "execution_count": 1,
   "metadata": {},
   "outputs": [],
   "source": [
    "import pandas as pd\n",
    "import numpy as np"
   ]
  },
  {
   "cell_type": "code",
   "execution_count": 2,
   "metadata": {},
   "outputs": [],
   "source": [
    "spotify_data_json = pd.read_json(\"/Volumes/GoogleDrive/My Drive/Work/GitHub/Datasets/Spotify/StreamingHistory0.json\")"
   ]
  },
  {
   "cell_type": "code",
   "execution_count": 3,
   "metadata": {},
   "outputs": [
    {
     "output_type": "execute_result",
     "data": {
      "text/plain": [
       "            endTime      artistName              trackName  msPlayed\n",
       "0  2019-02-23 21:13   Alex Ferreira        La Noche Entera    115600\n",
       "1  2019-12-14 07:18    Man de Barro             Fin de Año    196330\n",
       "2  2019-12-14 07:19  Kendrick Lamar            Money Trees     10325\n",
       "3  2019-12-14 07:22        The 1975  Love It If We Made It    218709\n",
       "4  2019-12-14 07:22   Flosstradamus            Prison Riot      1962"
      ],
      "text/html": "<div>\n<style scoped>\n    .dataframe tbody tr th:only-of-type {\n        vertical-align: middle;\n    }\n\n    .dataframe tbody tr th {\n        vertical-align: top;\n    }\n\n    .dataframe thead th {\n        text-align: right;\n    }\n</style>\n<table border=\"1\" class=\"dataframe\">\n  <thead>\n    <tr style=\"text-align: right;\">\n      <th></th>\n      <th>endTime</th>\n      <th>artistName</th>\n      <th>trackName</th>\n      <th>msPlayed</th>\n    </tr>\n  </thead>\n  <tbody>\n    <tr>\n      <th>0</th>\n      <td>2019-02-23 21:13</td>\n      <td>Alex Ferreira</td>\n      <td>La Noche Entera</td>\n      <td>115600</td>\n    </tr>\n    <tr>\n      <th>1</th>\n      <td>2019-12-14 07:18</td>\n      <td>Man de Barro</td>\n      <td>Fin de Año</td>\n      <td>196330</td>\n    </tr>\n    <tr>\n      <th>2</th>\n      <td>2019-12-14 07:19</td>\n      <td>Kendrick Lamar</td>\n      <td>Money Trees</td>\n      <td>10325</td>\n    </tr>\n    <tr>\n      <th>3</th>\n      <td>2019-12-14 07:22</td>\n      <td>The 1975</td>\n      <td>Love It If We Made It</td>\n      <td>218709</td>\n    </tr>\n    <tr>\n      <th>4</th>\n      <td>2019-12-14 07:22</td>\n      <td>Flosstradamus</td>\n      <td>Prison Riot</td>\n      <td>1962</td>\n    </tr>\n  </tbody>\n</table>\n</div>"
     },
     "metadata": {},
     "execution_count": 3
    }
   ],
   "source": [
    "spotify_data_json.head()"
   ]
  },
  {
   "cell_type": "code",
   "execution_count": 4,
   "metadata": {},
   "outputs": [],
   "source": [
    "#Changing the data from a json file to a csv to be able to mold it better\n",
    "#spotify_data_json.to_csv(\"/Volumes/GoogleDrive/My Drive/Work/GitHub/Datasets/Spotify/StreamingHistory0.csv\")"
   ]
  },
  {
   "cell_type": "code",
   "execution_count": 5,
   "metadata": {},
   "outputs": [],
   "source": [
    "spotify_data_csv = pd.read_csv(\"/Volumes/GoogleDrive/My Drive/Work/GitHub/Datasets/Spotify/StreamingHistory0.csv\",index_col=None,usecols=[1,2,3,4], names=[\"LastPlayed\", \"Artist\", \"Song\", \"MsPlayed\"])"
   ]
  },
  {
   "cell_type": "code",
   "execution_count": 6,
   "metadata": {},
   "outputs": [
    {
     "output_type": "execute_result",
     "data": {
      "text/plain": [
       "         LastPlayed          Artist                   Song  MsPlayed\n",
       "0           endTime      artistName              trackName  msPlayed\n",
       "1  2019-02-23 21:13   Alex Ferreira        La Noche Entera    115600\n",
       "2  2019-12-14 07:18    Man de Barro             Fin de Año    196330\n",
       "3  2019-12-14 07:19  Kendrick Lamar            Money Trees     10325\n",
       "4  2019-12-14 07:22        The 1975  Love It If We Made It    218709"
      ],
      "text/html": "<div>\n<style scoped>\n    .dataframe tbody tr th:only-of-type {\n        vertical-align: middle;\n    }\n\n    .dataframe tbody tr th {\n        vertical-align: top;\n    }\n\n    .dataframe thead th {\n        text-align: right;\n    }\n</style>\n<table border=\"1\" class=\"dataframe\">\n  <thead>\n    <tr style=\"text-align: right;\">\n      <th></th>\n      <th>LastPlayed</th>\n      <th>Artist</th>\n      <th>Song</th>\n      <th>MsPlayed</th>\n    </tr>\n  </thead>\n  <tbody>\n    <tr>\n      <th>0</th>\n      <td>endTime</td>\n      <td>artistName</td>\n      <td>trackName</td>\n      <td>msPlayed</td>\n    </tr>\n    <tr>\n      <th>1</th>\n      <td>2019-02-23 21:13</td>\n      <td>Alex Ferreira</td>\n      <td>La Noche Entera</td>\n      <td>115600</td>\n    </tr>\n    <tr>\n      <th>2</th>\n      <td>2019-12-14 07:18</td>\n      <td>Man de Barro</td>\n      <td>Fin de Año</td>\n      <td>196330</td>\n    </tr>\n    <tr>\n      <th>3</th>\n      <td>2019-12-14 07:19</td>\n      <td>Kendrick Lamar</td>\n      <td>Money Trees</td>\n      <td>10325</td>\n    </tr>\n    <tr>\n      <th>4</th>\n      <td>2019-12-14 07:22</td>\n      <td>The 1975</td>\n      <td>Love It If We Made It</td>\n      <td>218709</td>\n    </tr>\n  </tbody>\n</table>\n</div>"
     },
     "metadata": {},
     "execution_count": 6
    }
   ],
   "source": [
    "spotify_data_csv.head()"
   ]
  },
  {
   "cell_type": "code",
   "execution_count": 7,
   "metadata": {},
   "outputs": [],
   "source": [
    "#Deleting the first row in order to have only the rename columns\n",
    "df = spotify_data_csv.drop(spotify_data_csv.index[0])"
   ]
  },
  {
   "cell_type": "code",
   "execution_count": 8,
   "metadata": {},
   "outputs": [
    {
     "output_type": "execute_result",
     "data": {
      "text/plain": [
       "         LastPlayed          Artist                   Song MsPlayed\n",
       "1  2019-02-23 21:13   Alex Ferreira        La Noche Entera   115600\n",
       "2  2019-12-14 07:18    Man de Barro             Fin de Año   196330\n",
       "3  2019-12-14 07:19  Kendrick Lamar            Money Trees    10325\n",
       "4  2019-12-14 07:22        The 1975  Love It If We Made It   218709\n",
       "5  2019-12-14 07:22   Flosstradamus            Prison Riot     1962"
      ],
      "text/html": "<div>\n<style scoped>\n    .dataframe tbody tr th:only-of-type {\n        vertical-align: middle;\n    }\n\n    .dataframe tbody tr th {\n        vertical-align: top;\n    }\n\n    .dataframe thead th {\n        text-align: right;\n    }\n</style>\n<table border=\"1\" class=\"dataframe\">\n  <thead>\n    <tr style=\"text-align: right;\">\n      <th></th>\n      <th>LastPlayed</th>\n      <th>Artist</th>\n      <th>Song</th>\n      <th>MsPlayed</th>\n    </tr>\n  </thead>\n  <tbody>\n    <tr>\n      <th>1</th>\n      <td>2019-02-23 21:13</td>\n      <td>Alex Ferreira</td>\n      <td>La Noche Entera</td>\n      <td>115600</td>\n    </tr>\n    <tr>\n      <th>2</th>\n      <td>2019-12-14 07:18</td>\n      <td>Man de Barro</td>\n      <td>Fin de Año</td>\n      <td>196330</td>\n    </tr>\n    <tr>\n      <th>3</th>\n      <td>2019-12-14 07:19</td>\n      <td>Kendrick Lamar</td>\n      <td>Money Trees</td>\n      <td>10325</td>\n    </tr>\n    <tr>\n      <th>4</th>\n      <td>2019-12-14 07:22</td>\n      <td>The 1975</td>\n      <td>Love It If We Made It</td>\n      <td>218709</td>\n    </tr>\n    <tr>\n      <th>5</th>\n      <td>2019-12-14 07:22</td>\n      <td>Flosstradamus</td>\n      <td>Prison Riot</td>\n      <td>1962</td>\n    </tr>\n  </tbody>\n</table>\n</div>"
     },
     "metadata": {},
     "execution_count": 8
    }
   ],
   "source": [
    "df.head()"
   ]
  },
  {
   "cell_type": "code",
   "execution_count": 9,
   "metadata": {},
   "outputs": [
    {
     "output_type": "stream",
     "name": "stdout",
     "text": [
      "                                  Song\n1                      La Noche Entera\n2                           Fin de Año\n3                          Money Trees\n4                Love It If We Made It\n5                          Prison Riot\n...                                ...\n9996                  Just Like Heaven\n9997   These Are Just Places To Me Now\n9998                            Goldie\n9999                              Peak\n10000                             Peak\n\n[10000 rows x 1 columns]\n"
     ]
    }
   ],
   "source": [
    "print(df[[\"Song\"]])"
   ]
  },
  {
   "cell_type": "code",
   "execution_count": 10,
   "metadata": {},
   "outputs": [],
   "source": [
    "df_1 = df.copy()"
   ]
  },
  {
   "cell_type": "code",
   "execution_count": 11,
   "metadata": {},
   "outputs": [],
   "source": [
    "split_data = df_1[\"LastPlayed\"].str.split(\"-\")\n",
    "data = split_data.to_list()\n",
    "names = [\"Year\", \"Month\",\"Day\"]\n",
    "new_df = pd.DataFrame(data, columns=names)"
   ]
  },
  {
   "cell_type": "code",
   "execution_count": 12,
   "metadata": {},
   "outputs": [
    {
     "output_type": "execute_result",
     "data": {
      "text/plain": [
       "   Year Month       Day\n",
       "0  2019    02  23 21:13\n",
       "1  2019    12  14 07:18\n",
       "2  2019    12  14 07:19\n",
       "3  2019    12  14 07:22\n",
       "4  2019    12  14 07:22"
      ],
      "text/html": "<div>\n<style scoped>\n    .dataframe tbody tr th:only-of-type {\n        vertical-align: middle;\n    }\n\n    .dataframe tbody tr th {\n        vertical-align: top;\n    }\n\n    .dataframe thead th {\n        text-align: right;\n    }\n</style>\n<table border=\"1\" class=\"dataframe\">\n  <thead>\n    <tr style=\"text-align: right;\">\n      <th></th>\n      <th>Year</th>\n      <th>Month</th>\n      <th>Day</th>\n    </tr>\n  </thead>\n  <tbody>\n    <tr>\n      <th>0</th>\n      <td>2019</td>\n      <td>02</td>\n      <td>23 21:13</td>\n    </tr>\n    <tr>\n      <th>1</th>\n      <td>2019</td>\n      <td>12</td>\n      <td>14 07:18</td>\n    </tr>\n    <tr>\n      <th>2</th>\n      <td>2019</td>\n      <td>12</td>\n      <td>14 07:19</td>\n    </tr>\n    <tr>\n      <th>3</th>\n      <td>2019</td>\n      <td>12</td>\n      <td>14 07:22</td>\n    </tr>\n    <tr>\n      <th>4</th>\n      <td>2019</td>\n      <td>12</td>\n      <td>14 07:22</td>\n    </tr>\n  </tbody>\n</table>\n</div>"
     },
     "metadata": {},
     "execution_count": 12
    }
   ],
   "source": [
    "new_df.head()"
   ]
  },
  {
   "cell_type": "code",
   "execution_count": 19,
   "metadata": {},
   "outputs": [],
   "source": [
    "split_data = new_df[\"Day\"].str.split(\" \")\n",
    "data = split_data.to_list()\n",
    "names = [\"Day\", \"Time\"]\n",
    "new_new_df = pd.DataFrame(data, columns=names)"
   ]
  },
  {
   "cell_type": "code",
   "execution_count": 21,
   "metadata": {},
   "outputs": [
    {
     "output_type": "execute_result",
     "data": {
      "text/plain": [
       "  Day   Time\n",
       "0  23  21:13\n",
       "1  14  07:18\n",
       "2  14  07:19\n",
       "3  14  07:22\n",
       "4  14  07:22"
      ],
      "text/html": "<div>\n<style scoped>\n    .dataframe tbody tr th:only-of-type {\n        vertical-align: middle;\n    }\n\n    .dataframe tbody tr th {\n        vertical-align: top;\n    }\n\n    .dataframe thead th {\n        text-align: right;\n    }\n</style>\n<table border=\"1\" class=\"dataframe\">\n  <thead>\n    <tr style=\"text-align: right;\">\n      <th></th>\n      <th>Day</th>\n      <th>Time</th>\n    </tr>\n  </thead>\n  <tbody>\n    <tr>\n      <th>0</th>\n      <td>23</td>\n      <td>21:13</td>\n    </tr>\n    <tr>\n      <th>1</th>\n      <td>14</td>\n      <td>07:18</td>\n    </tr>\n    <tr>\n      <th>2</th>\n      <td>14</td>\n      <td>07:19</td>\n    </tr>\n    <tr>\n      <th>3</th>\n      <td>14</td>\n      <td>07:22</td>\n    </tr>\n    <tr>\n      <th>4</th>\n      <td>14</td>\n      <td>07:22</td>\n    </tr>\n  </tbody>\n</table>\n</div>"
     },
     "metadata": {},
     "execution_count": 21
    }
   ],
   "source": [
    "new_new_df.head()"
   ]
  },
  {
   "source": [
    "# I have to merge the data now, in order to fully grasp the data!!"
   ],
   "cell_type": "markdown",
   "metadata": {}
  },
  {
   "cell_type": "code",
   "execution_count": 15,
   "metadata": {},
   "outputs": [],
   "source": [
    "#Importing the JSON files\n",
    "spotify_data_json_1 = pd.read_json(\"/Volumes/GoogleDrive/My Drive/Work/GitHub/Datasets/Spotify/StreamingHistory1.json\")\n",
    "spotify_data_json_2 = pd.read_json(\"/Volumes/GoogleDrive/My Drive/Work/GitHub/Datasets/Spotify/StreamingHistory2.json\")\n",
    "spotify_data_json_3 = pd.read_json(\"/Volumes/GoogleDrive/My Drive/Work/GitHub/Datasets/Spotify/StreamingHistory3.json\")"
   ]
  },
  {
   "cell_type": "code",
   "execution_count": 16,
   "metadata": {},
   "outputs": [],
   "source": [
    "#Passing them to CSVs\n",
    "spotify_data_json_1.to_csv(\"/Volumes/GoogleDrive/My Drive/Work/GitHub/Datasets/Spotify/StreamingHistory1.csv\")\n",
    "spotify_data_json_2.to_csv(\"/Volumes/GoogleDrive/My Drive/Work/GitHub/Datasets/Spotify/StreamingHistory2.csv\")\n",
    "spotify_data_json_3.to_csv(\"/Volumes/GoogleDrive/My Drive/Work/GitHub/Datasets/Spotify/StreamingHistory3.csv\")"
   ]
  },
  {
   "cell_type": "code",
   "execution_count": 17,
   "metadata": {},
   "outputs": [],
   "source": [
    "#Rearrenging the data accordyingly\n",
    "spotify_data_csv_1 = pd.read_csv(\"/Volumes/GoogleDrive/My Drive/Work/GitHub/Datasets/Spotify/StreamingHistory1.csv\",index_col=None,usecols=[1,2,3,4], names=[\"LastPlayed\", \"Artist\", \"Song\", \"MsPlayed\"])\n",
    "spotify_data_csv_2 = pd.read_csv(\"/Volumes/GoogleDrive/My Drive/Work/GitHub/Datasets/Spotify/StreamingHistory2.csv\",index_col=None,usecols=[1,2,3,4], names=[\"LastPlayed\", \"Artist\", \"Song\", \"MsPlayed\"])\n",
    "spotify_data_csv_3 = pd.read_csv(\"/Volumes/GoogleDrive/My Drive/Work/GitHub/Datasets/Spotify/StreamingHistory3.csv\",index_col=None,usecols=[1,2,3,4], names=[\"LastPlayed\", \"Artist\", \"Song\", \"MsPlayed\"])"
   ]
  },
  {
   "cell_type": "code",
   "execution_count": 22,
   "metadata": {},
   "outputs": [],
   "source": [
    "#Dropping the first column\n",
    "df_streaminghistory_1 = spotify_data_csv_1.drop(spotify_data_csv.index[0])\n",
    "df_streaminghistory_2 = spotify_data_csv_2.drop(spotify_data_csv.index[0])\n",
    "df_streaminghistory_3 = spotify_data_csv_3.drop(spotify_data_csv.index[0])"
   ]
  },
  {
   "cell_type": "code",
   "execution_count": null,
   "metadata": {},
   "outputs": [],
   "source": []
  }
 ]
}