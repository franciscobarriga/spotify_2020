{
 "metadata": {
  "language_info": {
   "codemirror_mode": {
    "name": "ipython",
    "version": 3
   },
   "file_extension": ".py",
   "mimetype": "text/x-python",
   "name": "python",
   "nbconvert_exporter": "python",
   "pygments_lexer": "ipython3",
   "version": "3.8.3-final"
  },
  "orig_nbformat": 2,
  "kernelspec": {
   "name": "python3",
   "display_name": "Python 3",
   "language": "python"
  }
 },
 "nbformat": 4,
 "nbformat_minor": 2,
 "cells": [
  {
   "cell_type": "code",
   "execution_count": 1,
   "metadata": {},
   "outputs": [],
   "source": [
    "import pandas as pd\n",
    "import numpy as np\n",
    "import matplotlib.pyplot as plt"
   ]
  },
  {
   "cell_type": "code",
   "execution_count": 2,
   "metadata": {},
   "outputs": [],
   "source": [
    "#Importing the JSON files\n",
    "spotify_data_json_0 = pd.read_json(\"/Volumes/GoogleDrive/My Drive/Work/GitHub/Datasets/Spotify/StreamingHistory1.json\")\n",
    "spotify_data_json_1 = pd.read_json(\"/Volumes/GoogleDrive/My Drive/Work/GitHub/Datasets/Spotify/StreamingHistory1.json\")\n",
    "spotify_data_json_2 = pd.read_json(\"/Volumes/GoogleDrive/My Drive/Work/GitHub/Datasets/Spotify/StreamingHistory2.json\")\n",
    "spotify_data_json_3 = pd.read_json(\"/Volumes/GoogleDrive/My Drive/Work/GitHub/Datasets/Spotify/StreamingHistory3.json\")"
   ]
  },
  {
   "cell_type": "code",
   "execution_count": 3,
   "metadata": {},
   "outputs": [],
   "source": [
    "#Passing them to CSVs\n",
    "spotify_data_json_0.to_csv(\"/Volumes/GoogleDrive/My Drive/Work/GitHub/Datasets/Spotify/StreamingHistory0.csv\")\n",
    "spotify_data_json_1.to_csv(\"/Volumes/GoogleDrive/My Drive/Work/GitHub/Datasets/Spotify/StreamingHistory1.csv\")\n",
    "spotify_data_json_2.to_csv(\"/Volumes/GoogleDrive/My Drive/Work/GitHub/Datasets/Spotify/StreamingHistory2.csv\")\n",
    "spotify_data_json_3.to_csv(\"/Volumes/GoogleDrive/My Drive/Work/GitHub/Datasets/Spotify/StreamingHistory3.csv\")"
   ]
  },
  {
   "cell_type": "code",
   "execution_count": 4,
   "metadata": {},
   "outputs": [],
   "source": [
    "spotify_data_csv_0 = pd.read_csv(\"/Volumes/GoogleDrive/My Drive/Work/GitHub/Datasets/Spotify/StreamingHistory0.csv\",index_col=None,usecols=[1,2,3,4], names=[\"LastPlayed\", \"Artist\", \"Song\", \"MsPlayed\"])\n",
    "spotify_data_csv_1 = pd.read_csv(\"/Volumes/GoogleDrive/My Drive/Work/GitHub/Datasets/Spotify/StreamingHistory1.csv\",index_col=None,usecols=[1,2,3,4], names=[\"LastPlayed\", \"Artist\", \"Song\", \"MsPlayed\"])\n",
    "spotify_data_csv_2 = pd.read_csv(\"/Volumes/GoogleDrive/My Drive/Work/GitHub/Datasets/Spotify/StreamingHistory2.csv\",index_col=None,usecols=[1,2,3,4], names=[\"LastPlayed\", \"Artist\", \"Song\", \"MsPlayed\"])\n",
    "spotify_data_csv_3 = pd.read_csv(\"/Volumes/GoogleDrive/My Drive/Work/GitHub/Datasets/Spotify/StreamingHistory3.csv\",index_col=None,usecols=[1,2,3,4], names=[\"LastPlayed\", \"Artist\", \"Song\", \"MsPlayed\"])"
   ]
  },
  {
   "cell_type": "code",
   "execution_count": 5,
   "metadata": {},
   "outputs": [],
   "source": [
    "#Dropping the first row\n",
    "df_streaminghistory_0_old = spotify_data_csv_1.drop(spotify_data_csv_0.index[0])\n",
    "df_streaminghistory_1_old = spotify_data_csv_1.drop(spotify_data_csv_1.index[0])\n",
    "df_streaminghistory_2_old = spotify_data_csv_2.drop(spotify_data_csv_2.index[0])\n",
    "df_streaminghistory_3_old = spotify_data_csv_3.drop(spotify_data_csv_3.index[0])"
   ]
  },
  {
   "cell_type": "code",
   "execution_count": 6,
   "metadata": {},
   "outputs": [
    {
     "output_type": "execute_result",
     "data": {
      "text/plain": [
       "         LastPlayed         Artist                             Song MsPlayed\n",
       "1  2020-03-04 16:29       The 1975                    Somebody Else     1109\n",
       "2  2020-03-04 16:29       Folamour  These Are Just Places To Me Now   294463\n",
       "3  2020-03-04 16:29    Knife Party                 Internet Friends      874\n",
       "4  2020-03-04 16:35  Pleasurekraft   American Hustle - Original Mix     2133\n",
       "5  2020-03-04 16:35        OutKast         SpottieOttieDopaliscious   211378"
      ],
      "text/html": "<div>\n<style scoped>\n    .dataframe tbody tr th:only-of-type {\n        vertical-align: middle;\n    }\n\n    .dataframe tbody tr th {\n        vertical-align: top;\n    }\n\n    .dataframe thead th {\n        text-align: right;\n    }\n</style>\n<table border=\"1\" class=\"dataframe\">\n  <thead>\n    <tr style=\"text-align: right;\">\n      <th></th>\n      <th>LastPlayed</th>\n      <th>Artist</th>\n      <th>Song</th>\n      <th>MsPlayed</th>\n    </tr>\n  </thead>\n  <tbody>\n    <tr>\n      <th>1</th>\n      <td>2020-03-04 16:29</td>\n      <td>The 1975</td>\n      <td>Somebody Else</td>\n      <td>1109</td>\n    </tr>\n    <tr>\n      <th>2</th>\n      <td>2020-03-04 16:29</td>\n      <td>Folamour</td>\n      <td>These Are Just Places To Me Now</td>\n      <td>294463</td>\n    </tr>\n    <tr>\n      <th>3</th>\n      <td>2020-03-04 16:29</td>\n      <td>Knife Party</td>\n      <td>Internet Friends</td>\n      <td>874</td>\n    </tr>\n    <tr>\n      <th>4</th>\n      <td>2020-03-04 16:35</td>\n      <td>Pleasurekraft</td>\n      <td>American Hustle - Original Mix</td>\n      <td>2133</td>\n    </tr>\n    <tr>\n      <th>5</th>\n      <td>2020-03-04 16:35</td>\n      <td>OutKast</td>\n      <td>SpottieOttieDopaliscious</td>\n      <td>211378</td>\n    </tr>\n  </tbody>\n</table>\n</div>"
     },
     "metadata": {},
     "execution_count": 6
    }
   ],
   "source": [
    "df_streaminghistory_0_old.head()"
   ]
  },
  {
   "cell_type": "code",
   "execution_count": 7,
   "metadata": {},
   "outputs": [],
   "source": [
    "#Continue with the cleanse\n",
    "df_streaminghistory_0_old[['Date', 'Time']] = df_streaminghistory_0_old.LastPlayed.str.split(\" \", expand=True)\n",
    "df_streaminghistory_1_old[['Date', 'Time']] = df_streaminghistory_1_old.LastPlayed.str.split(\" \", expand=True)\n",
    "df_streaminghistory_2_old[['Date', 'Time']] = df_streaminghistory_2_old.LastPlayed.str.split(\" \", expand=True)\n",
    "df_streaminghistory_3_old[['Date', 'Time']] = df_streaminghistory_3_old.LastPlayed.str.split(\" \", expand=True)"
   ]
  },
  {
   "cell_type": "code",
   "execution_count": 8,
   "metadata": {},
   "outputs": [],
   "source": [
    "#The final touch\n",
    "df_streaminghistory_0_old.drop(\"LastPlayed\", axis=1, inplace=True)\n",
    "df_streaminghistory_1_old.drop(\"LastPlayed\", axis=1, inplace=True)\n",
    "df_streaminghistory_2_old.drop(\"LastPlayed\", axis=1, inplace=True)\n",
    "df_streaminghistory_3_old.drop(\"LastPlayed\", axis=1, inplace=True)"
   ]
  },
  {
   "cell_type": "code",
   "execution_count": 9,
   "metadata": {},
   "outputs": [],
   "source": [
    "df_streaminghistory_0 = df_streaminghistory_1_old.copy()\n",
    "df_streaminghistory_1 = df_streaminghistory_1_old.copy()\n",
    "df_streaminghistory_2 = df_streaminghistory_2_old.copy()\n",
    "df_streaminghistory_3 = df_streaminghistory_3_old.copy()"
   ]
  },
  {
   "cell_type": "code",
   "execution_count": 10,
   "metadata": {},
   "outputs": [],
   "source": [
    "#Compiling my DataFrames withing a list to merge them!\n",
    "MandA = [df_streaminghistory_0, df_streaminghistory_1, df_streaminghistory_2, df_streaminghistory_3]"
   ]
  },
  {
   "cell_type": "code",
   "execution_count": 11,
   "metadata": {},
   "outputs": [],
   "source": [
    "merge = pd.concat(MandA)"
   ]
  },
  {
   "cell_type": "code",
   "execution_count": 12,
   "metadata": {},
   "outputs": [],
   "source": [
    "spotify = merge.copy()"
   ]
  },
  {
   "cell_type": "code",
   "execution_count": 13,
   "metadata": {},
   "outputs": [
    {
     "output_type": "execute_result",
     "data": {
      "text/plain": [
       "          Artist                             Song MsPlayed        Date   Time\n",
       "1       The 1975                    Somebody Else     1109  2020-03-04  16:29\n",
       "2       Folamour  These Are Just Places To Me Now   294463  2020-03-04  16:29\n",
       "3    Knife Party                 Internet Friends      874  2020-03-04  16:29\n",
       "4  Pleasurekraft   American Hustle - Original Mix     2133  2020-03-04  16:35\n",
       "5        OutKast         SpottieOttieDopaliscious   211378  2020-03-04  16:35"
      ],
      "text/html": "<div>\n<style scoped>\n    .dataframe tbody tr th:only-of-type {\n        vertical-align: middle;\n    }\n\n    .dataframe tbody tr th {\n        vertical-align: top;\n    }\n\n    .dataframe thead th {\n        text-align: right;\n    }\n</style>\n<table border=\"1\" class=\"dataframe\">\n  <thead>\n    <tr style=\"text-align: right;\">\n      <th></th>\n      <th>Artist</th>\n      <th>Song</th>\n      <th>MsPlayed</th>\n      <th>Date</th>\n      <th>Time</th>\n    </tr>\n  </thead>\n  <tbody>\n    <tr>\n      <th>1</th>\n      <td>The 1975</td>\n      <td>Somebody Else</td>\n      <td>1109</td>\n      <td>2020-03-04</td>\n      <td>16:29</td>\n    </tr>\n    <tr>\n      <th>2</th>\n      <td>Folamour</td>\n      <td>These Are Just Places To Me Now</td>\n      <td>294463</td>\n      <td>2020-03-04</td>\n      <td>16:29</td>\n    </tr>\n    <tr>\n      <th>3</th>\n      <td>Knife Party</td>\n      <td>Internet Friends</td>\n      <td>874</td>\n      <td>2020-03-04</td>\n      <td>16:29</td>\n    </tr>\n    <tr>\n      <th>4</th>\n      <td>Pleasurekraft</td>\n      <td>American Hustle - Original Mix</td>\n      <td>2133</td>\n      <td>2020-03-04</td>\n      <td>16:35</td>\n    </tr>\n    <tr>\n      <th>5</th>\n      <td>OutKast</td>\n      <td>SpottieOttieDopaliscious</td>\n      <td>211378</td>\n      <td>2020-03-04</td>\n      <td>16:35</td>\n    </tr>\n  </tbody>\n</table>\n</div>"
     },
     "metadata": {},
     "execution_count": 13
    }
   ],
   "source": [
    "spotify.head()"
   ]
  },
  {
   "cell_type": "code",
   "execution_count": 14,
   "metadata": {},
   "outputs": [
    {
     "output_type": "stream",
     "name": "stdout",
     "text": [
      "<class 'pandas.core.frame.DataFrame'>\nInt64Index: 39268 entries, 1 to 9268\nData columns (total 5 columns):\n #   Column    Non-Null Count  Dtype \n---  ------    --------------  ----- \n 0   Artist    39268 non-null  object\n 1   Song      39268 non-null  object\n 2   MsPlayed  39268 non-null  object\n 3   Date      39268 non-null  object\n 4   Time      39268 non-null  object\ndtypes: object(5)\nmemory usage: 1.8+ MB\n"
     ]
    }
   ],
   "source": [
    "spotify.info()"
   ]
  },
  {
   "cell_type": "code",
   "execution_count": 15,
   "metadata": {},
   "outputs": [],
   "source": [
    "spotify[\"MsPlayed\"] = spotify['MsPlayed'].astype('int')\n",
    "spotify[\"Date\"] = pd.to_datetime(spotify[\"Date\"])\n",
    "spotify[\"MinutesPlayed\"] = round(spotify[\"MsPlayed\"] / 60000,2)\n",
    "spotify[\"MinutesPlayed\"] = spotify[\"MinutesPlayed\"].astype(\"float\")"
   ]
  },
  {
   "cell_type": "code",
   "execution_count": 16,
   "metadata": {},
   "outputs": [
    {
     "output_type": "stream",
     "name": "stdout",
     "text": [
      "<class 'pandas.core.frame.DataFrame'>\nInt64Index: 39268 entries, 1 to 9268\nData columns (total 6 columns):\n #   Column         Non-Null Count  Dtype         \n---  ------         --------------  -----         \n 0   Artist         39268 non-null  object        \n 1   Song           39268 non-null  object        \n 2   MsPlayed       39268 non-null  int64         \n 3   Date           39268 non-null  datetime64[ns]\n 4   Time           39268 non-null  object        \n 5   MinutesPlayed  39268 non-null  float64       \ndtypes: datetime64[ns](1), float64(1), int64(1), object(3)\nmemory usage: 2.1+ MB\n"
     ]
    }
   ],
   "source": [
    "spotify.info()"
   ]
  },
  {
   "cell_type": "code",
   "execution_count": 17,
   "metadata": {},
   "outputs": [
    {
     "output_type": "execute_result",
     "data": {
      "text/plain": [
       "          Artist                             Song  MsPlayed       Date   Time  \\\n",
       "1       The 1975                    Somebody Else      1109 2020-03-04  16:29   \n",
       "2       Folamour  These Are Just Places To Me Now    294463 2020-03-04  16:29   \n",
       "3    Knife Party                 Internet Friends       874 2020-03-04  16:29   \n",
       "4  Pleasurekraft   American Hustle - Original Mix      2133 2020-03-04  16:35   \n",
       "5        OutKast         SpottieOttieDopaliscious    211378 2020-03-04  16:35   \n",
       "\n",
       "   MinutesPlayed  \n",
       "1           0.02  \n",
       "2           4.91  \n",
       "3           0.01  \n",
       "4           0.04  \n",
       "5           3.52  "
      ],
      "text/html": "<div>\n<style scoped>\n    .dataframe tbody tr th:only-of-type {\n        vertical-align: middle;\n    }\n\n    .dataframe tbody tr th {\n        vertical-align: top;\n    }\n\n    .dataframe thead th {\n        text-align: right;\n    }\n</style>\n<table border=\"1\" class=\"dataframe\">\n  <thead>\n    <tr style=\"text-align: right;\">\n      <th></th>\n      <th>Artist</th>\n      <th>Song</th>\n      <th>MsPlayed</th>\n      <th>Date</th>\n      <th>Time</th>\n      <th>MinutesPlayed</th>\n    </tr>\n  </thead>\n  <tbody>\n    <tr>\n      <th>1</th>\n      <td>The 1975</td>\n      <td>Somebody Else</td>\n      <td>1109</td>\n      <td>2020-03-04</td>\n      <td>16:29</td>\n      <td>0.02</td>\n    </tr>\n    <tr>\n      <th>2</th>\n      <td>Folamour</td>\n      <td>These Are Just Places To Me Now</td>\n      <td>294463</td>\n      <td>2020-03-04</td>\n      <td>16:29</td>\n      <td>4.91</td>\n    </tr>\n    <tr>\n      <th>3</th>\n      <td>Knife Party</td>\n      <td>Internet Friends</td>\n      <td>874</td>\n      <td>2020-03-04</td>\n      <td>16:29</td>\n      <td>0.01</td>\n    </tr>\n    <tr>\n      <th>4</th>\n      <td>Pleasurekraft</td>\n      <td>American Hustle - Original Mix</td>\n      <td>2133</td>\n      <td>2020-03-04</td>\n      <td>16:35</td>\n      <td>0.04</td>\n    </tr>\n    <tr>\n      <th>5</th>\n      <td>OutKast</td>\n      <td>SpottieOttieDopaliscious</td>\n      <td>211378</td>\n      <td>2020-03-04</td>\n      <td>16:35</td>\n      <td>3.52</td>\n    </tr>\n  </tbody>\n</table>\n</div>"
     },
     "metadata": {},
     "execution_count": 17
    }
   ],
   "source": [
    "spotify.head()"
   ]
  },
  {
   "source": [
    "## Let's find out which was my most listened artist this year!"
   ],
   "cell_type": "markdown",
   "metadata": {}
  },
  {
   "cell_type": "code",
   "execution_count": 18,
   "metadata": {},
   "outputs": [
    {
     "output_type": "execute_result",
     "data": {
      "text/plain": [
       "           MsPlayed  MinutesPlayed\n",
       "count  3.926800e+04   39268.000000\n",
       "mean   1.302741e+05       2.171179\n",
       "std    2.212148e+05       3.686921\n",
       "min    0.000000e+00       0.000000\n",
       "25%    1.927000e+03       0.030000\n",
       "50%    5.701000e+04       0.950000\n",
       "75%    2.150405e+05       3.580000\n",
       "max    7.866771e+06     131.110000"
      ],
      "text/html": "<div>\n<style scoped>\n    .dataframe tbody tr th:only-of-type {\n        vertical-align: middle;\n    }\n\n    .dataframe tbody tr th {\n        vertical-align: top;\n    }\n\n    .dataframe thead th {\n        text-align: right;\n    }\n</style>\n<table border=\"1\" class=\"dataframe\">\n  <thead>\n    <tr style=\"text-align: right;\">\n      <th></th>\n      <th>MsPlayed</th>\n      <th>MinutesPlayed</th>\n    </tr>\n  </thead>\n  <tbody>\n    <tr>\n      <th>count</th>\n      <td>3.926800e+04</td>\n      <td>39268.000000</td>\n    </tr>\n    <tr>\n      <th>mean</th>\n      <td>1.302741e+05</td>\n      <td>2.171179</td>\n    </tr>\n    <tr>\n      <th>std</th>\n      <td>2.212148e+05</td>\n      <td>3.686921</td>\n    </tr>\n    <tr>\n      <th>min</th>\n      <td>0.000000e+00</td>\n      <td>0.000000</td>\n    </tr>\n    <tr>\n      <th>25%</th>\n      <td>1.927000e+03</td>\n      <td>0.030000</td>\n    </tr>\n    <tr>\n      <th>50%</th>\n      <td>5.701000e+04</td>\n      <td>0.950000</td>\n    </tr>\n    <tr>\n      <th>75%</th>\n      <td>2.150405e+05</td>\n      <td>3.580000</td>\n    </tr>\n    <tr>\n      <th>max</th>\n      <td>7.866771e+06</td>\n      <td>131.110000</td>\n    </tr>\n  </tbody>\n</table>\n</div>"
     },
     "metadata": {},
     "execution_count": 18
    }
   ],
   "source": [
    "spotify.describe()"
   ]
  },
  {
   "cell_type": "code",
   "execution_count": 19,
   "metadata": {},
   "outputs": [
    {
     "output_type": "execute_result",
     "data": {
      "text/plain": [
       "(39268, 6)"
      ]
     },
     "metadata": {},
     "execution_count": 19
    }
   ],
   "source": [
    "spotify.shape"
   ]
  },
  {
   "cell_type": "code",
   "execution_count": 20,
   "metadata": {},
   "outputs": [
    {
     "output_type": "execute_result",
     "data": {
      "text/plain": [
       "                                        MinutesPlayed\n",
       "Artist                                               \n",
       "Today, Explained                              2621.15\n",
       "NBC Nightly News with Lester Holt             2405.37\n",
       "FT News Briefing                              2157.19\n",
       "Kanye West                                    2047.20\n",
       "Bad Bunny                                     1973.15\n",
       "Háblame Sucio                                 1731.72\n",
       "The Joe Rogan Experience                      1305.25\n",
       "Cadáver Exquisito                             1190.53\n",
       "VIEWS with David Dobrik and Jason Nash        1126.24\n",
       "Anderson .Paak                                1111.65"
      ],
      "text/html": "<div>\n<style scoped>\n    .dataframe tbody tr th:only-of-type {\n        vertical-align: middle;\n    }\n\n    .dataframe tbody tr th {\n        vertical-align: top;\n    }\n\n    .dataframe thead th {\n        text-align: right;\n    }\n</style>\n<table border=\"1\" class=\"dataframe\">\n  <thead>\n    <tr style=\"text-align: right;\">\n      <th></th>\n      <th>MinutesPlayed</th>\n    </tr>\n    <tr>\n      <th>Artist</th>\n      <th></th>\n    </tr>\n  </thead>\n  <tbody>\n    <tr>\n      <th>Today, Explained</th>\n      <td>2621.15</td>\n    </tr>\n    <tr>\n      <th>NBC Nightly News with Lester Holt</th>\n      <td>2405.37</td>\n    </tr>\n    <tr>\n      <th>FT News Briefing</th>\n      <td>2157.19</td>\n    </tr>\n    <tr>\n      <th>Kanye West</th>\n      <td>2047.20</td>\n    </tr>\n    <tr>\n      <th>Bad Bunny</th>\n      <td>1973.15</td>\n    </tr>\n    <tr>\n      <th>Háblame Sucio</th>\n      <td>1731.72</td>\n    </tr>\n    <tr>\n      <th>The Joe Rogan Experience</th>\n      <td>1305.25</td>\n    </tr>\n    <tr>\n      <th>Cadáver Exquisito</th>\n      <td>1190.53</td>\n    </tr>\n    <tr>\n      <th>VIEWS with David Dobrik and Jason Nash</th>\n      <td>1126.24</td>\n    </tr>\n    <tr>\n      <th>Anderson .Paak</th>\n      <td>1111.65</td>\n    </tr>\n  </tbody>\n</table>\n</div>"
     },
     "metadata": {},
     "execution_count": 20
    }
   ],
   "source": [
    "top_artist = spotify.groupby(\"Artist\")\n",
    "top_10 = top_artist[[\"MinutesPlayed\"]].sum().sort_values(\"MinutesPlayed\",ascending = False)\n",
    "top_10.head(10)"
   ]
  },
  {
   "source": [
    "# Now let's check which is the song/podcast which I heard the most this year!"
   ],
   "cell_type": "markdown",
   "metadata": {}
  },
  {
   "cell_type": "code",
   "execution_count": 21,
   "metadata": {},
   "outputs": [
    {
     "output_type": "execute_result",
     "data": {
      "text/plain": [
       "                      MinutesPlayed\n",
       "Song                               \n",
       "Si Veo a Tu Mamá             471.08\n",
       "Emborrachame De Amor         417.54\n",
       "Loco en el Desierto          404.78\n",
       "Lo Que Siento                338.65\n",
       "New Perspective              323.44\n",
       "René                         313.50\n",
       "Tú                           308.43\n",
       "Pyramids                     303.91\n",
       "Pedro Navaja                 280.31\n",
       "Bound 2                      244.66"
      ],
      "text/html": "<div>\n<style scoped>\n    .dataframe tbody tr th:only-of-type {\n        vertical-align: middle;\n    }\n\n    .dataframe tbody tr th {\n        vertical-align: top;\n    }\n\n    .dataframe thead th {\n        text-align: right;\n    }\n</style>\n<table border=\"1\" class=\"dataframe\">\n  <thead>\n    <tr style=\"text-align: right;\">\n      <th></th>\n      <th>MinutesPlayed</th>\n    </tr>\n    <tr>\n      <th>Song</th>\n      <th></th>\n    </tr>\n  </thead>\n  <tbody>\n    <tr>\n      <th>Si Veo a Tu Mamá</th>\n      <td>471.08</td>\n    </tr>\n    <tr>\n      <th>Emborrachame De Amor</th>\n      <td>417.54</td>\n    </tr>\n    <tr>\n      <th>Loco en el Desierto</th>\n      <td>404.78</td>\n    </tr>\n    <tr>\n      <th>Lo Que Siento</th>\n      <td>338.65</td>\n    </tr>\n    <tr>\n      <th>New Perspective</th>\n      <td>323.44</td>\n    </tr>\n    <tr>\n      <th>René</th>\n      <td>313.50</td>\n    </tr>\n    <tr>\n      <th>Tú</th>\n      <td>308.43</td>\n    </tr>\n    <tr>\n      <th>Pyramids</th>\n      <td>303.91</td>\n    </tr>\n    <tr>\n      <th>Pedro Navaja</th>\n      <td>280.31</td>\n    </tr>\n    <tr>\n      <th>Bound 2</th>\n      <td>244.66</td>\n    </tr>\n  </tbody>\n</table>\n</div>"
     },
     "metadata": {},
     "execution_count": 21
    }
   ],
   "source": [
    "top_song = spotify.groupby(\"Song\")\n",
    "top_song[[\"MinutesPlayed\"]].sum().sort_values(\"MinutesPlayed\", ascending = False).head(10)"
   ]
  },
  {
   "source": [
    "## In order to group by year, I have to manipulate the data another way though"
   ],
   "cell_type": "markdown",
   "metadata": {}
  },
  {
   "cell_type": "code",
   "execution_count": 22,
   "metadata": {},
   "outputs": [],
   "source": [
    "spotify_yearly = spotify.copy()"
   ]
  },
  {
   "cell_type": "code",
   "execution_count": 23,
   "metadata": {},
   "outputs": [],
   "source": [
    "spotify_yearly[\"Date\"] = spotify_yearly.Date.astype(\"string\")"
   ]
  },
  {
   "cell_type": "code",
   "execution_count": 24,
   "metadata": {},
   "outputs": [
    {
     "output_type": "stream",
     "name": "stdout",
     "text": [
      "<class 'pandas.core.frame.DataFrame'>\nInt64Index: 39268 entries, 1 to 9268\nData columns (total 6 columns):\n #   Column         Non-Null Count  Dtype  \n---  ------         --------------  -----  \n 0   Artist         39268 non-null  object \n 1   Song           39268 non-null  object \n 2   MsPlayed       39268 non-null  int64  \n 3   Date           39268 non-null  string \n 4   Time           39268 non-null  object \n 5   MinutesPlayed  39268 non-null  float64\ndtypes: float64(1), int64(1), object(3), string(1)\nmemory usage: 2.1+ MB\n"
     ]
    }
   ],
   "source": [
    "spotify_yearly.info()"
   ]
  },
  {
   "cell_type": "code",
   "execution_count": 68,
   "metadata": {},
   "outputs": [
    {
     "output_type": "execute_result",
     "data": {
      "text/plain": [
       "     Artist           Song  MsPlayed        Date   Time  MinutesPlayed\n",
       "1  The 1975  Somebody Else      1109  2020-03-04  16:29           0.02"
      ],
      "text/html": "<div>\n<style scoped>\n    .dataframe tbody tr th:only-of-type {\n        vertical-align: middle;\n    }\n\n    .dataframe tbody tr th {\n        vertical-align: top;\n    }\n\n    .dataframe thead th {\n        text-align: right;\n    }\n</style>\n<table border=\"1\" class=\"dataframe\">\n  <thead>\n    <tr style=\"text-align: right;\">\n      <th></th>\n      <th>Artist</th>\n      <th>Song</th>\n      <th>MsPlayed</th>\n      <th>Date</th>\n      <th>Time</th>\n      <th>MinutesPlayed</th>\n    </tr>\n  </thead>\n  <tbody>\n    <tr>\n      <th>1</th>\n      <td>The 1975</td>\n      <td>Somebody Else</td>\n      <td>1109</td>\n      <td>2020-03-04</td>\n      <td>16:29</td>\n      <td>0.02</td>\n    </tr>\n  </tbody>\n</table>\n</div>"
     },
     "metadata": {},
     "execution_count": 68
    }
   ],
   "source": [
    "spotify_yearly.head(1)"
   ]
  },
  {
   "cell_type": "code",
   "execution_count": 26,
   "metadata": {},
   "outputs": [
    {
     "output_type": "stream",
     "name": "stdout",
     "text": [
      "<class 'pandas.core.frame.DataFrame'>\n"
     ]
    }
   ],
   "source": [
    "print(type(spotify_yearly))"
   ]
  },
  {
   "cell_type": "code",
   "execution_count": 77,
   "metadata": {},
   "outputs": [
    {
     "output_type": "execute_result",
     "data": {
      "text/plain": [
       "                      Artist  \\\n",
       "Counter                        \n",
       "0                   The 1975   \n",
       "1                   Folamour   \n",
       "2                Knife Party   \n",
       "3              Pleasurekraft   \n",
       "4                    OutKast   \n",
       "...                      ...   \n",
       "39263            Superchería   \n",
       "39264    La Máquina Camaleón   \n",
       "39265               Efelante   \n",
       "39266      Tus Amigos Nuevos   \n",
       "39267       Usted Señalemelo   \n",
       "\n",
       "                                                      Song  MsPlayed  \\\n",
       "Counter                                                                \n",
       "0                                            Somebody Else      1109   \n",
       "1                          These Are Just Places To Me Now    294463   \n",
       "2                                         Internet Friends       874   \n",
       "3                           American Hustle - Original Mix      2133   \n",
       "4                                 SpottieOttieDopaliscious    211378   \n",
       "...                                                    ...       ...   \n",
       "39263                                          Lo Esencial    235768   \n",
       "39264    ¡VACÁCIONE Z! - Ep. 3: La combinación más fuer...    204250   \n",
       "39265                                                Mango    191681   \n",
       "39266                                    Cóctel Pirotecnia    268472   \n",
       "39267                                             Big Bang     47264   \n",
       "\n",
       "               Date   Time  MinutesPlayed  \n",
       "Counter                                    \n",
       "0        2020-03-04  16:29           0.02  \n",
       "1        2020-03-04  16:29           4.91  \n",
       "2        2020-03-04  16:29           0.01  \n",
       "3        2020-03-04  16:35           0.04  \n",
       "4        2020-03-04  16:35           3.52  \n",
       "...             ...    ...            ...  \n",
       "39263    2020-12-14  23:20           3.93  \n",
       "39264    2020-12-14  23:24           3.40  \n",
       "39265    2020-12-14  23:27           3.19  \n",
       "39266    2020-12-14  23:31           4.47  \n",
       "39267    2020-12-14  23:32           0.79  \n",
       "\n",
       "[39268 rows x 6 columns]"
      ],
      "text/html": "<div>\n<style scoped>\n    .dataframe tbody tr th:only-of-type {\n        vertical-align: middle;\n    }\n\n    .dataframe tbody tr th {\n        vertical-align: top;\n    }\n\n    .dataframe thead th {\n        text-align: right;\n    }\n</style>\n<table border=\"1\" class=\"dataframe\">\n  <thead>\n    <tr style=\"text-align: right;\">\n      <th></th>\n      <th>Artist</th>\n      <th>Song</th>\n      <th>MsPlayed</th>\n      <th>Date</th>\n      <th>Time</th>\n      <th>MinutesPlayed</th>\n    </tr>\n    <tr>\n      <th>Counter</th>\n      <th></th>\n      <th></th>\n      <th></th>\n      <th></th>\n      <th></th>\n      <th></th>\n    </tr>\n  </thead>\n  <tbody>\n    <tr>\n      <th>0</th>\n      <td>The 1975</td>\n      <td>Somebody Else</td>\n      <td>1109</td>\n      <td>2020-03-04</td>\n      <td>16:29</td>\n      <td>0.02</td>\n    </tr>\n    <tr>\n      <th>1</th>\n      <td>Folamour</td>\n      <td>These Are Just Places To Me Now</td>\n      <td>294463</td>\n      <td>2020-03-04</td>\n      <td>16:29</td>\n      <td>4.91</td>\n    </tr>\n    <tr>\n      <th>2</th>\n      <td>Knife Party</td>\n      <td>Internet Friends</td>\n      <td>874</td>\n      <td>2020-03-04</td>\n      <td>16:29</td>\n      <td>0.01</td>\n    </tr>\n    <tr>\n      <th>3</th>\n      <td>Pleasurekraft</td>\n      <td>American Hustle - Original Mix</td>\n      <td>2133</td>\n      <td>2020-03-04</td>\n      <td>16:35</td>\n      <td>0.04</td>\n    </tr>\n    <tr>\n      <th>4</th>\n      <td>OutKast</td>\n      <td>SpottieOttieDopaliscious</td>\n      <td>211378</td>\n      <td>2020-03-04</td>\n      <td>16:35</td>\n      <td>3.52</td>\n    </tr>\n    <tr>\n      <th>...</th>\n      <td>...</td>\n      <td>...</td>\n      <td>...</td>\n      <td>...</td>\n      <td>...</td>\n      <td>...</td>\n    </tr>\n    <tr>\n      <th>39263</th>\n      <td>Superchería</td>\n      <td>Lo Esencial</td>\n      <td>235768</td>\n      <td>2020-12-14</td>\n      <td>23:20</td>\n      <td>3.93</td>\n    </tr>\n    <tr>\n      <th>39264</th>\n      <td>La Máquina Camaleón</td>\n      <td>¡VACÁCIONE Z! - Ep. 3: La combinación más fuer...</td>\n      <td>204250</td>\n      <td>2020-12-14</td>\n      <td>23:24</td>\n      <td>3.40</td>\n    </tr>\n    <tr>\n      <th>39265</th>\n      <td>Efelante</td>\n      <td>Mango</td>\n      <td>191681</td>\n      <td>2020-12-14</td>\n      <td>23:27</td>\n      <td>3.19</td>\n    </tr>\n    <tr>\n      <th>39266</th>\n      <td>Tus Amigos Nuevos</td>\n      <td>Cóctel Pirotecnia</td>\n      <td>268472</td>\n      <td>2020-12-14</td>\n      <td>23:31</td>\n      <td>4.47</td>\n    </tr>\n    <tr>\n      <th>39267</th>\n      <td>Usted Señalemelo</td>\n      <td>Big Bang</td>\n      <td>47264</td>\n      <td>2020-12-14</td>\n      <td>23:32</td>\n      <td>0.79</td>\n    </tr>\n  </tbody>\n</table>\n<p>39268 rows × 6 columns</p>\n</div>"
     },
     "metadata": {},
     "execution_count": 77
    }
   ],
   "source": [
    "spotify_yearly['Counter'] = np.arange(spotify_yearly.shape[0])\n",
    "spotify_yearly.set_index(\"Counter\")"
   ]
  },
  {
   "cell_type": "code",
   "execution_count": 27,
   "metadata": {},
   "outputs": [],
   "source": [
    "spotify_yearly_df = spotify_yearly[\"Date\"].str.split(\"-\")\n",
    "data = spotify_yearly_df.to_list()\n",
    "names = [\"Year\", \"Month\",\"Day\"] \n",
    "new_df = pd.DataFrame(data, columns=names)"
   ]
  },
  {
   "cell_type": "code",
   "execution_count": 73,
   "metadata": {},
   "outputs": [
    {
     "output_type": "execute_result",
     "data": {
      "text/plain": [
       "   Year Month Day\n",
       "0  2020    03  04\n",
       "1  2020    03  04\n",
       "2  2020    03  04\n",
       "3  2020    03  04\n",
       "4  2020    03  04"
      ],
      "text/html": "<div>\n<style scoped>\n    .dataframe tbody tr th:only-of-type {\n        vertical-align: middle;\n    }\n\n    .dataframe tbody tr th {\n        vertical-align: top;\n    }\n\n    .dataframe thead th {\n        text-align: right;\n    }\n</style>\n<table border=\"1\" class=\"dataframe\">\n  <thead>\n    <tr style=\"text-align: right;\">\n      <th></th>\n      <th>Year</th>\n      <th>Month</th>\n      <th>Day</th>\n    </tr>\n  </thead>\n  <tbody>\n    <tr>\n      <th>0</th>\n      <td>2020</td>\n      <td>03</td>\n      <td>04</td>\n    </tr>\n    <tr>\n      <th>1</th>\n      <td>2020</td>\n      <td>03</td>\n      <td>04</td>\n    </tr>\n    <tr>\n      <th>2</th>\n      <td>2020</td>\n      <td>03</td>\n      <td>04</td>\n    </tr>\n    <tr>\n      <th>3</th>\n      <td>2020</td>\n      <td>03</td>\n      <td>04</td>\n    </tr>\n    <tr>\n      <th>4</th>\n      <td>2020</td>\n      <td>03</td>\n      <td>04</td>\n    </tr>\n  </tbody>\n</table>\n</div>"
     },
     "metadata": {},
     "execution_count": 73
    }
   ],
   "source": [
    "new_df.head()"
   ]
  },
  {
   "cell_type": "code",
   "execution_count": 41,
   "metadata": {},
   "outputs": [
    {
     "output_type": "stream",
     "name": "stdout",
     "text": [
      "<class 'pandas.core.frame.DataFrame'>\nRangeIndex: 39268 entries, 0 to 39267\nData columns (total 3 columns):\n #   Column  Non-Null Count  Dtype \n---  ------  --------------  ----- \n 0   Year    39268 non-null  object\n 1   Month   39268 non-null  object\n 2   Day     39268 non-null  object\ndtypes: object(3)\nmemory usage: 920.5+ KB\n"
     ]
    }
   ],
   "source": [
    "new_df.info()"
   ]
  },
  {
   "cell_type": "code",
   "execution_count": 78,
   "metadata": {},
   "outputs": [
    {
     "output_type": "execute_result",
     "data": {
      "text/plain": [
       "         Year Month Day\n",
       "Counter                \n",
       "0        2020    03  04\n",
       "1        2020    03  04\n",
       "2        2020    03  04\n",
       "3        2020    03  04\n",
       "4        2020    03  04\n",
       "...       ...   ...  ..\n",
       "39263    2020    12  14\n",
       "39264    2020    12  14\n",
       "39265    2020    12  14\n",
       "39266    2020    12  14\n",
       "39267    2020    12  14\n",
       "\n",
       "[39268 rows x 3 columns]"
      ],
      "text/html": "<div>\n<style scoped>\n    .dataframe tbody tr th:only-of-type {\n        vertical-align: middle;\n    }\n\n    .dataframe tbody tr th {\n        vertical-align: top;\n    }\n\n    .dataframe thead th {\n        text-align: right;\n    }\n</style>\n<table border=\"1\" class=\"dataframe\">\n  <thead>\n    <tr style=\"text-align: right;\">\n      <th></th>\n      <th>Year</th>\n      <th>Month</th>\n      <th>Day</th>\n    </tr>\n    <tr>\n      <th>Counter</th>\n      <th></th>\n      <th></th>\n      <th></th>\n    </tr>\n  </thead>\n  <tbody>\n    <tr>\n      <th>0</th>\n      <td>2020</td>\n      <td>03</td>\n      <td>04</td>\n    </tr>\n    <tr>\n      <th>1</th>\n      <td>2020</td>\n      <td>03</td>\n      <td>04</td>\n    </tr>\n    <tr>\n      <th>2</th>\n      <td>2020</td>\n      <td>03</td>\n      <td>04</td>\n    </tr>\n    <tr>\n      <th>3</th>\n      <td>2020</td>\n      <td>03</td>\n      <td>04</td>\n    </tr>\n    <tr>\n      <th>4</th>\n      <td>2020</td>\n      <td>03</td>\n      <td>04</td>\n    </tr>\n    <tr>\n      <th>...</th>\n      <td>...</td>\n      <td>...</td>\n      <td>...</td>\n    </tr>\n    <tr>\n      <th>39263</th>\n      <td>2020</td>\n      <td>12</td>\n      <td>14</td>\n    </tr>\n    <tr>\n      <th>39264</th>\n      <td>2020</td>\n      <td>12</td>\n      <td>14</td>\n    </tr>\n    <tr>\n      <th>39265</th>\n      <td>2020</td>\n      <td>12</td>\n      <td>14</td>\n    </tr>\n    <tr>\n      <th>39266</th>\n      <td>2020</td>\n      <td>12</td>\n      <td>14</td>\n    </tr>\n    <tr>\n      <th>39267</th>\n      <td>2020</td>\n      <td>12</td>\n      <td>14</td>\n    </tr>\n  </tbody>\n</table>\n<p>39268 rows × 3 columns</p>\n</div>"
     },
     "metadata": {},
     "execution_count": 78
    }
   ],
   "source": [
    "new_df['Counter'] = np.arange(new_df.shape[0])\n",
    "new_df.set_index(\"Counter\")"
   ]
  },
  {
   "cell_type": "code",
   "execution_count": 79,
   "metadata": {},
   "outputs": [],
   "source": [
    "spotify_granular = pd.merge(spotify_yearly,new_df,left_on=\"Counter\", right_on=\"Counter\")"
   ]
  },
  {
   "cell_type": "code",
   "execution_count": 81,
   "metadata": {},
   "outputs": [],
   "source": [
    "spotify_granular.drop(\"Date\", axis=1, inplace=True)"
   ]
  },
  {
   "cell_type": "code",
   "execution_count": 84,
   "metadata": {},
   "outputs": [
    {
     "output_type": "execute_result",
     "data": {
      "text/plain": [
       "                      Artist  \\\n",
       "Counter                        \n",
       "0                   The 1975   \n",
       "1                   Folamour   \n",
       "2                Knife Party   \n",
       "3              Pleasurekraft   \n",
       "4                    OutKast   \n",
       "...                      ...   \n",
       "39263            Superchería   \n",
       "39264    La Máquina Camaleón   \n",
       "39265               Efelante   \n",
       "39266      Tus Amigos Nuevos   \n",
       "39267       Usted Señalemelo   \n",
       "\n",
       "                                                      Song  MsPlayed   Time  \\\n",
       "Counter                                                                       \n",
       "0                                            Somebody Else      1109  16:29   \n",
       "1                          These Are Just Places To Me Now    294463  16:29   \n",
       "2                                         Internet Friends       874  16:29   \n",
       "3                           American Hustle - Original Mix      2133  16:35   \n",
       "4                                 SpottieOttieDopaliscious    211378  16:35   \n",
       "...                                                    ...       ...    ...   \n",
       "39263                                          Lo Esencial    235768  23:20   \n",
       "39264    ¡VACÁCIONE Z! - Ep. 3: La combinación más fuer...    204250  23:24   \n",
       "39265                                                Mango    191681  23:27   \n",
       "39266                                    Cóctel Pirotecnia    268472  23:31   \n",
       "39267                                             Big Bang     47264  23:32   \n",
       "\n",
       "         MinutesPlayed  Year Month Day  \n",
       "Counter                                 \n",
       "0                 0.02  2020    03  04  \n",
       "1                 4.91  2020    03  04  \n",
       "2                 0.01  2020    03  04  \n",
       "3                 0.04  2020    03  04  \n",
       "4                 3.52  2020    03  04  \n",
       "...                ...   ...   ...  ..  \n",
       "39263             3.93  2020    12  14  \n",
       "39264             3.40  2020    12  14  \n",
       "39265             3.19  2020    12  14  \n",
       "39266             4.47  2020    12  14  \n",
       "39267             0.79  2020    12  14  \n",
       "\n",
       "[39268 rows x 8 columns]"
      ],
      "text/html": "<div>\n<style scoped>\n    .dataframe tbody tr th:only-of-type {\n        vertical-align: middle;\n    }\n\n    .dataframe tbody tr th {\n        vertical-align: top;\n    }\n\n    .dataframe thead th {\n        text-align: right;\n    }\n</style>\n<table border=\"1\" class=\"dataframe\">\n  <thead>\n    <tr style=\"text-align: right;\">\n      <th></th>\n      <th>Artist</th>\n      <th>Song</th>\n      <th>MsPlayed</th>\n      <th>Time</th>\n      <th>MinutesPlayed</th>\n      <th>Year</th>\n      <th>Month</th>\n      <th>Day</th>\n    </tr>\n    <tr>\n      <th>Counter</th>\n      <th></th>\n      <th></th>\n      <th></th>\n      <th></th>\n      <th></th>\n      <th></th>\n      <th></th>\n      <th></th>\n    </tr>\n  </thead>\n  <tbody>\n    <tr>\n      <th>0</th>\n      <td>The 1975</td>\n      <td>Somebody Else</td>\n      <td>1109</td>\n      <td>16:29</td>\n      <td>0.02</td>\n      <td>2020</td>\n      <td>03</td>\n      <td>04</td>\n    </tr>\n    <tr>\n      <th>1</th>\n      <td>Folamour</td>\n      <td>These Are Just Places To Me Now</td>\n      <td>294463</td>\n      <td>16:29</td>\n      <td>4.91</td>\n      <td>2020</td>\n      <td>03</td>\n      <td>04</td>\n    </tr>\n    <tr>\n      <th>2</th>\n      <td>Knife Party</td>\n      <td>Internet Friends</td>\n      <td>874</td>\n      <td>16:29</td>\n      <td>0.01</td>\n      <td>2020</td>\n      <td>03</td>\n      <td>04</td>\n    </tr>\n    <tr>\n      <th>3</th>\n      <td>Pleasurekraft</td>\n      <td>American Hustle - Original Mix</td>\n      <td>2133</td>\n      <td>16:35</td>\n      <td>0.04</td>\n      <td>2020</td>\n      <td>03</td>\n      <td>04</td>\n    </tr>\n    <tr>\n      <th>4</th>\n      <td>OutKast</td>\n      <td>SpottieOttieDopaliscious</td>\n      <td>211378</td>\n      <td>16:35</td>\n      <td>3.52</td>\n      <td>2020</td>\n      <td>03</td>\n      <td>04</td>\n    </tr>\n    <tr>\n      <th>...</th>\n      <td>...</td>\n      <td>...</td>\n      <td>...</td>\n      <td>...</td>\n      <td>...</td>\n      <td>...</td>\n      <td>...</td>\n      <td>...</td>\n    </tr>\n    <tr>\n      <th>39263</th>\n      <td>Superchería</td>\n      <td>Lo Esencial</td>\n      <td>235768</td>\n      <td>23:20</td>\n      <td>3.93</td>\n      <td>2020</td>\n      <td>12</td>\n      <td>14</td>\n    </tr>\n    <tr>\n      <th>39264</th>\n      <td>La Máquina Camaleón</td>\n      <td>¡VACÁCIONE Z! - Ep. 3: La combinación más fuer...</td>\n      <td>204250</td>\n      <td>23:24</td>\n      <td>3.40</td>\n      <td>2020</td>\n      <td>12</td>\n      <td>14</td>\n    </tr>\n    <tr>\n      <th>39265</th>\n      <td>Efelante</td>\n      <td>Mango</td>\n      <td>191681</td>\n      <td>23:27</td>\n      <td>3.19</td>\n      <td>2020</td>\n      <td>12</td>\n      <td>14</td>\n    </tr>\n    <tr>\n      <th>39266</th>\n      <td>Tus Amigos Nuevos</td>\n      <td>Cóctel Pirotecnia</td>\n      <td>268472</td>\n      <td>23:31</td>\n      <td>4.47</td>\n      <td>2020</td>\n      <td>12</td>\n      <td>14</td>\n    </tr>\n    <tr>\n      <th>39267</th>\n      <td>Usted Señalemelo</td>\n      <td>Big Bang</td>\n      <td>47264</td>\n      <td>23:32</td>\n      <td>0.79</td>\n      <td>2020</td>\n      <td>12</td>\n      <td>14</td>\n    </tr>\n  </tbody>\n</table>\n<p>39268 rows × 8 columns</p>\n</div>"
     },
     "metadata": {},
     "execution_count": 84
    }
   ],
   "source": [
    "spotify_granular.set_index(\"Counter\")"
   ]
  },
  {
   "cell_type": "code",
   "execution_count": 85,
   "metadata": {},
   "outputs": [
    {
     "output_type": "stream",
     "name": "stdout",
     "text": [
      "<class 'pandas.core.frame.DataFrame'>\nInt64Index: 39268 entries, 0 to 39267\nData columns (total 9 columns):\n #   Column         Non-Null Count  Dtype  \n---  ------         --------------  -----  \n 0   Artist         39268 non-null  object \n 1   Song           39268 non-null  object \n 2   MsPlayed       39268 non-null  int64  \n 3   Time           39268 non-null  object \n 4   MinutesPlayed  39268 non-null  float64\n 5   Counter        39268 non-null  int64  \n 6   Year           39268 non-null  object \n 7   Month          39268 non-null  object \n 8   Day            39268 non-null  object \ndtypes: float64(1), int64(2), object(6)\nmemory usage: 4.2+ MB\n"
     ]
    }
   ],
   "source": [
    "spotify_granular.info()"
   ]
  },
  {
   "source": [
    "# I am going to group them by month in order to find out which month did I heard the most music in!"
   ],
   "cell_type": "markdown",
   "metadata": {}
  },
  {
   "cell_type": "code",
   "execution_count": 87,
   "metadata": {},
   "outputs": [],
   "source": [
    "month = spotify_granular.groupby(\"Month\")"
   ]
  },
  {
   "cell_type": "code",
   "execution_count": 93,
   "metadata": {},
   "outputs": [
    {
     "output_type": "stream",
     "name": "stdout",
     "text": [
      "Month\n06    11648.13\n05    11306.40\n08    10359.22\n03     9722.72\n04     9520.10\n10     8819.79\n09     7996.81\n11     7326.45\n12     5164.91\n07     3393.32\nName: MinutesPlayed, dtype: float64\n"
     ]
    }
   ],
   "source": [
    "print(month[\"MinutesPlayed\"].sum().sort_values(ascending = False))"
   ]
  },
  {
   "cell_type": "code",
   "execution_count": 103,
   "metadata": {},
   "outputs": [
    {
     "output_type": "stream",
     "name": "stdout",
     "text": [
      "I heard over 85,257.85 minutes of music in all 2020!!\n"
     ]
    }
   ],
   "source": [
    "print(\"I heard over {:,} minutes of music in all 2020!!\" .format(spotify_granular[\"MinutesPlayed\"].sum().round(2)))"
   ]
  },
  {
   "cell_type": "code",
   "execution_count": null,
   "metadata": {},
   "outputs": [],
   "source": []
  }
 ]
}